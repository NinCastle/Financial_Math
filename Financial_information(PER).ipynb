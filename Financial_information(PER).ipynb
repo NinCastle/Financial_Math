{
 "cells": [
  {
   "cell_type": "markdown",
   "metadata": {},
   "source": [
    "[주식/기업분석 관련 용어 정리](https://wind1237.blog.me/221346943184)  \n",
    "[일레븐](http://elevenbuilding.tistory.com/entry/%EC%A3%BC%EC%8B%9D-%EC%9A%A9%EC%96%B4-%EC%A0%95%EB%A6%AC-PER%EC%9D%B4-%EB%AD%98%EA%B9%8C)  \n",
    "하기 내용은 상기 링크를 정리한것."
   ]
  },
  {
   "cell_type": "markdown",
   "metadata": {},
   "source": [
    "# PER"
   ]
  },
  {
   "cell_type": "markdown",
   "metadata": {},
   "source": [
    "PER은 \"주가수익비율\" 을 말한다.  \n",
    "이 말은 주식의 주당 시가를 주당 이익으로 나눈 수치로,  \n",
    "쉽게 말해 현재 주가가 주식 1주당 수익의 몇 배가 되느냐를 말하는것이다.  "
   ]
  },
  {
   "cell_type": "markdown",
   "metadata": {},
   "source": [
    "$A$ = 현재 주가  \n",
    "$B$ = 1주당 순이익\n",
    "$$\\frac{A}{B}$$"
   ]
  },
  {
   "cell_type": "markdown",
   "metadata": {},
   "source": []
  },
  {
   "cell_type": "code",
   "execution_count": null,
   "metadata": {},
   "outputs": [],
   "source": []
  }
 ],
 "metadata": {
  "kernelspec": {
   "display_name": "Python 3",
   "language": "python",
   "name": "python3"
  },
  "language_info": {
   "codemirror_mode": {
    "name": "ipython",
    "version": 3
   },
   "file_extension": ".py",
   "mimetype": "text/x-python",
   "name": "python",
   "nbconvert_exporter": "python",
   "pygments_lexer": "ipython3",
   "version": "3.6.4"
  }
 },
 "nbformat": 4,
 "nbformat_minor": 2
}
