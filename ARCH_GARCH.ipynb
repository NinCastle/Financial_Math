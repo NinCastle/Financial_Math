{
 "cells": [
  {
   "cell_type": "markdown",
   "metadata": {},
   "source": [
    "[나무위키 (GARCH)](https://namu.wiki/w/GARCH)  \n",
    "[금융수학 (GARCH 모형에 의한 변동성 추정)](https://insightcampus.co.kr/fm34/)  \n",
    "[변동성 모형(ARCH, GARCH)](http://blog.naver.com/PostView.nhn?blogId=yonxman&logNo=220973487496)  \n",
    "[GARCH 모형에 의한 변동성 추정](https://m.blog.naver.com/PostView.nhn?blogId=chunjein&logNo=100210717285&proxyReferer=https%3A%2F%2Fwww.google.co.kr%2F)  \n",
    "아래 내용은 상위 링크를 정리한것."
   ]
  },
  {
   "cell_type": "markdown",
   "metadata": {},
   "source": [
    "# ARCH, GARCH"
   ]
  },
  {
   "cell_type": "markdown",
   "metadata": {},
   "source": [
    "## GARCH"
   ]
  },
  {
   "cell_type": "markdown",
   "metadata": {},
   "source": [
    "ARCH 모형의 파생형 중 하나.\n",
    "\n",
    "어떤 시계열의 평균은 예측하지 못해도 분산은 예측할 수 있는 경우라 할 수 있다.  \n",
    "금융시장에서 각종 가격변수들을 예측할 때 널리 사용된다.  \n",
    "FRM 등의 시험에도 출제되는 매우 범용적인 부분.  \n",
    "예를 들어 KOSPI지수를 분석해보면 지수의 값은 랜덤워크에 가깝게 움직이는 것을 볼수 있다.  \n",
    "즉 내일 코스피 지수는 오늘 코스피 지수 +- 무작위 오차 식으로 예측할 수 있다는 것이다.   \n",
    "그러나 지수가 변화하는 정도, 즉 표준편차, 혹은 분산의 경우에는 오늘 분산이 낮으면 내일도 낮고 오늘 분산이 높으면 내일도 높은 식의 관계가 존재한다.  \n",
    "바꿔 말해서 박스피는 계속 박스피로 남고,  \n",
    "천천히 올라가는 장이면 계속 천천히 오르거나 내리고,  \n",
    "급락/급등장에서는 또 급락/급등이 이어질 확률이 높다는 것이다.  \n",
    "얼핏 생각해보면 분산을 예측하는 것이 의미 없다 여길 수 있지만 분산이 곧 리스크인 만큼 매우 중요할 수 밖에 없는 분야.  \n"
   ]
  }
 ],
 "metadata": {
  "kernelspec": {
   "display_name": "Python 3",
   "language": "python",
   "name": "python3"
  },
  "language_info": {
   "codemirror_mode": {
    "name": "ipython",
    "version": 3
   },
   "file_extension": ".py",
   "mimetype": "text/x-python",
   "name": "python",
   "nbconvert_exporter": "python",
   "pygments_lexer": "ipython3",
   "version": "3.6.4"
  }
 },
 "nbformat": 4,
 "nbformat_minor": 2
}
