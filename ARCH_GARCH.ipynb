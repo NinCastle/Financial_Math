{
 "cells": [
  {
   "cell_type": "markdown",
   "metadata": {},
   "source": [
    "[나무위키 (GARCH)](https://namu.wiki/w/GARCH)  \n",
    "[금융수학 (GARCH 모형에 의한 변동성 추정)](https://insightcampus.co.kr/fm34/)  \n",
    "[변동성 모형(ARCH, GARCH)](http://blog.naver.com/PostView.nhn?blogId=yonxman&logNo=220973487496)  \n",
    "[GARCH 모형에 의한 변동성 추정](https://m.blog.naver.com/PostView.nhn?blogId=chunjein&logNo=100210717285&proxyReferer=https%3A%2F%2Fwww.google.co.kr%2F)  \n",
    "아래 내용은 상위 링크를 정리한것."
   ]
  },
  {
   "cell_type": "markdown",
   "metadata": {},
   "source": [
    "# ARCH, GARCH"
   ]
  },
  {
   "cell_type": "markdown",
   "metadata": {},
   "source": [
    "## "
   ]
  }
 ],
 "metadata": {
  "kernelspec": {
   "display_name": "Python 3",
   "language": "python",
   "name": "python3"
  },
  "language_info": {
   "codemirror_mode": {
    "name": "ipython",
    "version": 3
   },
   "file_extension": ".py",
   "mimetype": "text/x-python",
   "name": "python",
   "nbconvert_exporter": "python",
   "pygments_lexer": "ipython3",
   "version": "3.6.4"
  }
 },
 "nbformat": 4,
 "nbformat_minor": 2
}
